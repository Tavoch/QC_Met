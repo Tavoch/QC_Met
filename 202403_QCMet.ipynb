{
 "cells": [
  {
   "cell_type": "code",
   "execution_count": 1,
   "id": "c7fb062d-d371-4f7a-a4bd-0b67e6e370fc",
   "metadata": {},
   "outputs": [],
   "source": [
    "# 000import libs\n",
    "import requests\n",
    "import psycopg2\n",
    "import os\n",
    "import pandas as pd\n",
    "from datetime import datetime, timedelta\n",
    "import uuid\n",
    "import hashlib\n",
    "import pandas as pd\n",
    "from sqlalchemy import create_engine, text\n",
    "import io\n",
    "import matplotlib.pyplot as plt\n",
    "import subprocess"
   ]
  },
  {
   "cell_type": "code",
   "execution_count": null,
   "id": "ca662641",
   "metadata": {},
   "outputs": [],
   "source": [
    "# Ejecutar el comando ROBOCOPY y esperar a que finalice\n",
    "result = subprocess.run(['ROBOCOPY', '/MIR', '/R:0', 'x:\\\\', 'c:\\\\temp\\\\datos', '/MAXAGE:7'], capture_output=True, text=True)\n",
    "\n",
    "# Imprimir la salida del comando\n",
    "print(result.stdout)\n",
    "\n",
    "# El código siguiente no se ejecutará hasta que el comando ROBOCOPY haya terminado"
   ]
  }
 ],
 "metadata": {
  "kernelspec": {
   "display_name": "Python 3 (ipykernel)",
   "language": "python",
   "name": "python3"
  },
  "language_info": {
   "codemirror_mode": {
    "name": "ipython",
    "version": 3
   },
   "file_extension": ".py",
   "mimetype": "text/x-python",
   "name": "python",
   "nbconvert_exporter": "python",
   "pygments_lexer": "ipython3",
   "version": "3.12.0"
  }
 },
 "nbformat": 4,
 "nbformat_minor": 5
}
